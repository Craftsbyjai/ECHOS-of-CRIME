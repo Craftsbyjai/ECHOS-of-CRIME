{
 "cells": [
  {
   "cell_type": "code",
   "execution_count": 186,
   "id": "058b4e42-0a21-4ee4-ae79-433bcff4c629",
   "metadata": {},
   "outputs": [],
   "source": [
    "# Import necessary libraries\n",
    "import pandas as pd\n",
    "from sklearn.model_selection import train_test_split\n",
    "from sklearn.linear_model import LogisticRegression\n",
    "from sklearn.metrics import classification_report, accuracy_score\n",
    "from sklearn.impute import SimpleImputer\n",
    "from sklearn.tree import DecisionTreeClassifier\n",
    "from sklearn.metrics import confusion_matrix\n",
    "from sklearn.metrics import classification_report"
   ]
  },
  {
   "cell_type": "code",
   "execution_count": 187,
   "id": "b5320bf3-c5ef-466f-8861-4562a07eec17",
   "metadata": {},
   "outputs": [],
   "source": [
    "# Loading\n",
    "df = pd.read_csv(\"C:\\\\Users\\\\KARTIK REDDY\\\\Downloads\\\\Jaideep#SP\\\\Rape_victims(T).csv\")"
   ]
  },
  {
   "cell_type": "code",
   "execution_count": 188,
   "id": "a5cc87a8-8e0d-477e-a29e-cc8881a7125a",
   "metadata": {},
   "outputs": [],
   "source": [
    "columns_to_drop = ['ID', 'NAME', 'AGE']\n",
    "df.drop(columns_to_drop, axis=1, inplace=True)"
   ]
  },
  {
   "cell_type": "code",
   "execution_count": 189,
   "id": "d637e049-9951-4290-bace-f26aea6ec417",
   "metadata": {},
   "outputs": [],
   "source": [
    "# Encode categorical variables\n",
    "df_encoded = pd.get_dummies(df, columns=['HAIR SAMPLES', 'CLOTHING', 'FINGERNAIL CLIPPINGS & SCRAPING', 'BACTERIAL VAGINOSIS', 'HEPATITS', 'HIV INFECTION', 'OTHER STI', 'PSYCHOLOGICAL TRAUMA', 'PTSD', 'GENITAL INJURY', 'EXTRAGENITAL INJURY', 'PREGNENCY', 'SALIVA', 'SEMEN', 'BLOOD'], drop_first=True)\n"
   ]
  },
  {
   "cell_type": "code",
   "execution_count": 190,
   "id": "01ec36d6-2328-4159-ba32-55a53e00a8ed",
   "metadata": {},
   "outputs": [
    {
     "name": "stdout",
     "output_type": "stream",
     "text": [
      "Index(['DECISION', 'HAIR SAMPLES_Not_found', 'CLOTHING_Foreign cloth',\n",
      "       'CLOTHING_Ripped', 'CLOTHING_Stained',\n",
      "       'FINGERNAIL CLIPPINGS & SCRAPING_Not_found', 'BACTERIAL VAGINOSIS_Yes',\n",
      "       'HEPATITS_Yes', 'HIV INFECTION_Positive', 'OTHER STI_Yes',\n",
      "       'PSYCHOLOGICAL TRAUMA_Yes', 'PTSD_Yes', 'GENITAL INJURY_Not_injured',\n",
      "       'EXTRAGENITAL INJURY_Not_injured', 'PREGNENCY_Positive',\n",
      "       'SALIVA_Not_found', 'SEMEN_Not_found', 'BLOOD_Not_found'],\n",
      "      dtype='object')\n"
     ]
    }
   ],
   "source": [
    "print(df_encoded.columns)"
   ]
  },
  {
   "cell_type": "code",
   "execution_count": 191,
   "id": "35159036-873f-4968-8755-34cccbc94a98",
   "metadata": {},
   "outputs": [],
   "source": [
    "target_column = 'DECISION' \n",
    "\n",
    "X = df_encoded.drop(\"DECISION\", axis=1)\n",
    "y = df_encoded[\"DECISION\"]\n",
    "\n",
    "# Split your original dataset into a training set and a test set\n",
    "X_train, X_test, y_train, y_test = train_test_split(X, y, test_size=0.2, random_state=42)\n"
   ]
  },
  {
   "cell_type": "code",
   "execution_count": 192,
   "id": "1f3dce85-036f-4d4f-8669-25cbf0fd8264",
   "metadata": {},
   "outputs": [],
   "source": [
    "# Identify string columns\n",
    "string_columns = X_train.select_dtypes(include=['category']).columns"
   ]
  },
  {
   "cell_type": "code",
   "execution_count": 193,
   "id": "860e9855-e3cd-4989-81cc-283513195799",
   "metadata": {},
   "outputs": [],
   "source": [
    "# One-hot encode string columns\n",
    "X_train_encoded = pd.get_dummies(X_train, columns=string_columns)"
   ]
  },
  {
   "cell_type": "code",
   "execution_count": 194,
   "id": "cf3d1eec-bae0-479a-9985-1f4ca0ad6e76",
   "metadata": {},
   "outputs": [
    {
     "data": {
      "text/html": [
       "<style>#sk-container-id-13 {color: black;background-color: white;}#sk-container-id-13 pre{padding: 0;}#sk-container-id-13 div.sk-toggleable {background-color: white;}#sk-container-id-13 label.sk-toggleable__label {cursor: pointer;display: block;width: 100%;margin-bottom: 0;padding: 0.3em;box-sizing: border-box;text-align: center;}#sk-container-id-13 label.sk-toggleable__label-arrow:before {content: \"▸\";float: left;margin-right: 0.25em;color: #696969;}#sk-container-id-13 label.sk-toggleable__label-arrow:hover:before {color: black;}#sk-container-id-13 div.sk-estimator:hover label.sk-toggleable__label-arrow:before {color: black;}#sk-container-id-13 div.sk-toggleable__content {max-height: 0;max-width: 0;overflow: hidden;text-align: left;background-color: #f0f8ff;}#sk-container-id-13 div.sk-toggleable__content pre {margin: 0.2em;color: black;border-radius: 0.25em;background-color: #f0f8ff;}#sk-container-id-13 input.sk-toggleable__control:checked~div.sk-toggleable__content {max-height: 200px;max-width: 100%;overflow: auto;}#sk-container-id-13 input.sk-toggleable__control:checked~label.sk-toggleable__label-arrow:before {content: \"▾\";}#sk-container-id-13 div.sk-estimator input.sk-toggleable__control:checked~label.sk-toggleable__label {background-color: #d4ebff;}#sk-container-id-13 div.sk-label input.sk-toggleable__control:checked~label.sk-toggleable__label {background-color: #d4ebff;}#sk-container-id-13 input.sk-hidden--visually {border: 0;clip: rect(1px 1px 1px 1px);clip: rect(1px, 1px, 1px, 1px);height: 1px;margin: -1px;overflow: hidden;padding: 0;position: absolute;width: 1px;}#sk-container-id-13 div.sk-estimator {font-family: monospace;background-color: #f0f8ff;border: 1px dotted black;border-radius: 0.25em;box-sizing: border-box;margin-bottom: 0.5em;}#sk-container-id-13 div.sk-estimator:hover {background-color: #d4ebff;}#sk-container-id-13 div.sk-parallel-item::after {content: \"\";width: 100%;border-bottom: 1px solid gray;flex-grow: 1;}#sk-container-id-13 div.sk-label:hover label.sk-toggleable__label {background-color: #d4ebff;}#sk-container-id-13 div.sk-serial::before {content: \"\";position: absolute;border-left: 1px solid gray;box-sizing: border-box;top: 0;bottom: 0;left: 50%;z-index: 0;}#sk-container-id-13 div.sk-serial {display: flex;flex-direction: column;align-items: center;background-color: white;padding-right: 0.2em;padding-left: 0.2em;position: relative;}#sk-container-id-13 div.sk-item {position: relative;z-index: 1;}#sk-container-id-13 div.sk-parallel {display: flex;align-items: stretch;justify-content: center;background-color: white;position: relative;}#sk-container-id-13 div.sk-item::before, #sk-container-id-13 div.sk-parallel-item::before {content: \"\";position: absolute;border-left: 1px solid gray;box-sizing: border-box;top: 0;bottom: 0;left: 50%;z-index: -1;}#sk-container-id-13 div.sk-parallel-item {display: flex;flex-direction: column;z-index: 1;position: relative;background-color: white;}#sk-container-id-13 div.sk-parallel-item:first-child::after {align-self: flex-end;width: 50%;}#sk-container-id-13 div.sk-parallel-item:last-child::after {align-self: flex-start;width: 50%;}#sk-container-id-13 div.sk-parallel-item:only-child::after {width: 0;}#sk-container-id-13 div.sk-dashed-wrapped {border: 1px dashed gray;margin: 0 0.4em 0.5em 0.4em;box-sizing: border-box;padding-bottom: 0.4em;background-color: white;}#sk-container-id-13 div.sk-label label {font-family: monospace;font-weight: bold;display: inline-block;line-height: 1.2em;}#sk-container-id-13 div.sk-label-container {text-align: center;}#sk-container-id-13 div.sk-container {/* jupyter's `normalize.less` sets `[hidden] { display: none; }` but bootstrap.min.css set `[hidden] { display: none !important; }` so we also need the `!important` here to be able to override the default hidden behavior on the sphinx rendered scikit-learn.org. See: https://github.com/scikit-learn/scikit-learn/issues/21755 */display: inline-block !important;position: relative;}#sk-container-id-13 div.sk-text-repr-fallback {display: none;}</style><div id=\"sk-container-id-13\" class=\"sk-top-container\"><div class=\"sk-text-repr-fallback\"><pre>DecisionTreeClassifier(random_state=42)</pre><b>In a Jupyter environment, please rerun this cell to show the HTML representation or trust the notebook. <br />On GitHub, the HTML representation is unable to render, please try loading this page with nbviewer.org.</b></div><div class=\"sk-container\" hidden><div class=\"sk-item\"><div class=\"sk-estimator sk-toggleable\"><input class=\"sk-toggleable__control sk-hidden--visually\" id=\"sk-estimator-id-13\" type=\"checkbox\" checked><label for=\"sk-estimator-id-13\" class=\"sk-toggleable__label sk-toggleable__label-arrow\">DecisionTreeClassifier</label><div class=\"sk-toggleable__content\"><pre>DecisionTreeClassifier(random_state=42)</pre></div></div></div></div></div>"
      ],
      "text/plain": [
       "DecisionTreeClassifier(random_state=42)"
      ]
     },
     "execution_count": 194,
     "metadata": {},
     "output_type": "execute_result"
    }
   ],
   "source": [
    "# Fit the DecisionTreeClassifier\n",
    "clf = DecisionTreeClassifier(random_state=42)\n",
    "clf.fit(X_train_encoded, y_train)\n"
   ]
  },
  {
   "cell_type": "code",
   "execution_count": 195,
   "id": "04257aeb-60bb-4092-b294-20bf3e17981c",
   "metadata": {},
   "outputs": [],
   "source": [
    "# One-hot encode the test dataset\n",
    "X_test_encoded = pd.get_dummies(X_test)\n",
    "\n",
    "# Align the test set columns with the training set columns\n",
    "X_test_encoded, X_train_encoded = X_test_encoded.align(X_train_encoded, axis=1, fill_value=0)\n",
    "\n",
    "# Ensure the order of column in the test set is in the same order than in train set\n",
    "X_test_encoded = X_test_encoded[X_train_encoded.columns]\n",
    "\n",
    "# Now, predict using the trained model\n",
    "y_pred = clf.predict(X_test_encoded)"
   ]
  },
  {
   "cell_type": "code",
   "execution_count": 196,
   "id": "b00d1831-ab4b-4664-9c83-3e914d62f39a",
   "metadata": {},
   "outputs": [
    {
     "name": "stdout",
     "output_type": "stream",
     "text": [
      "Accuracy: 83.33%\n"
     ]
    }
   ],
   "source": [
    "# Calculate accuracy\n",
    "accuracy = accuracy_score(y_test, y_pred)\n",
    "print(f\"Accuracy: {accuracy * 100:.2f}%\")"
   ]
  },
  {
   "cell_type": "code",
   "execution_count": 197,
   "id": "4a0ddf7b-2382-4c10-90b4-426fbef5d89c",
   "metadata": {},
   "outputs": [
    {
     "name": "stdout",
     "output_type": "stream",
     "text": [
      "[[1 0]\n",
      " [1 4]]\n"
     ]
    }
   ],
   "source": [
    "cm = confusion_matrix(y_test, y_pred)\n",
    "print(cm)"
   ]
  },
  {
   "cell_type": "code",
   "execution_count": 198,
   "id": "21d1ceb1-cf51-4dbd-9637-f64adb598acd",
   "metadata": {
    "scrolled": true
   },
   "outputs": [
    {
     "name": "stdout",
     "output_type": "stream",
     "text": [
      "              precision    recall  f1-score   support\n",
      "\n",
      "       Abuse       0.50      1.00      0.67         1\n",
      "        Rape       1.00      0.80      0.89         5\n",
      "\n",
      "    accuracy                           0.83         6\n",
      "   macro avg       0.75      0.90      0.78         6\n",
      "weighted avg       0.92      0.83      0.85         6\n",
      "\n"
     ]
    }
   ],
   "source": [
    "print(classification_report(y_test, y_pred))"
   ]
  },
  {
   "cell_type": "code",
   "execution_count": 199,
   "id": "8bf21f3c-acfb-408f-a9da-e1109fccf86d",
   "metadata": {},
   "outputs": [
    {
     "name": "stdout",
     "output_type": "stream",
     "text": [
      "Detection: Abuse\n"
     ]
    }
   ],
   "source": [
    "DECISION = pd.DataFrame({\n",
    "         'HAIR SAMPLES_Not_found': [1],\n",
    "         'CLOTHING_Foreign cloth': [0],\n",
    "         'CLOTHING_Ripped': [1],\n",
    "         'CLOTHING_Stained': [0],\n",
    "         'FINGERNAIL CLIPPINGS & SCRAPING_Not_found': [1],\n",
    "         'BACTERIAL VAGINOSIS_Yes': [0],\n",
    "         'HEPATITS_Yes': [0],\n",
    "         'HIV INFECTION_Positive': [0],\n",
    "         'OTHER STI_Yes': [0],\n",
    "         'PSYCHOLOGICAL TRAUMA_Yes': [1],\n",
    "         'PTSD_Yes': [1],\n",
    "         'GENITAL INJURY_Not_injured': [1],\n",
    "         'EXTRAGENITAL INJURY_Not_injured': [0],\n",
    "         'PREGNENCY_Positive': [0],\n",
    "         'SALIVA_Not_found': [0],\n",
    "         'SEMEN_Not_found': [1],\n",
    "         'BLOOD_Not_found': [1]\n",
    "    })\n",
    "\n",
    "# Reset index for new_data\n",
    "DECISION.reset_index(drop=True, inplace=True)\n",
    "\n",
    "X_new = DECISION[X_train.columns]\n",
    "\n",
    "# Predict 'DECISION' for the new data\n",
    "prediction = clf.predict(X_new)\n",
    "\n",
    "# Print the predicted 'DECISION' value\n",
    "print(f\"Detection: {prediction[0]}\")\n",
    "\n"
   ]
  },
  {
   "cell_type": "code",
   "execution_count": 200,
   "id": "70fc3c40-a712-4d66-9aee-746042f522a0",
   "metadata": {},
   "outputs": [
    {
     "name": "stdout",
     "output_type": "stream",
     "text": [
      "Columns in X_train: Index(['HAIR SAMPLES_Not_found', 'CLOTHING_Foreign cloth', 'CLOTHING_Ripped',\n",
      "       'CLOTHING_Stained', 'FINGERNAIL CLIPPINGS & SCRAPING_Not_found',\n",
      "       'BACTERIAL VAGINOSIS_Yes', 'HEPATITS_Yes', 'HIV INFECTION_Positive',\n",
      "       'OTHER STI_Yes', 'PSYCHOLOGICAL TRAUMA_Yes', 'PTSD_Yes',\n",
      "       'GENITAL INJURY_Not_injured', 'EXTRAGENITAL INJURY_Not_injured',\n",
      "       'PREGNENCY_Positive', 'SALIVA_Not_found', 'SEMEN_Not_found',\n",
      "       'BLOOD_Not_found'],\n",
      "      dtype='object')\n",
      "Columns in DECISION: Index(['HAIR SAMPLES_Not_found', 'CLOTHING_Foreign cloth', 'CLOTHING_Ripped',\n",
      "       'CLOTHING_Stained', 'FINGERNAIL CLIPPINGS & SCRAPING_Not_found',\n",
      "       'BACTERIAL VAGINOSIS_Yes', 'HEPATITS_Yes', 'HIV INFECTION_Positive',\n",
      "       'OTHER STI_Yes', 'PSYCHOLOGICAL TRAUMA_Yes', 'PTSD_Yes',\n",
      "       'GENITAL INJURY_Not_injured', 'EXTRAGENITAL INJURY_Not_injured',\n",
      "       'PREGNENCY_Positive', 'SALIVA_Not_found', 'SEMEN_Not_found',\n",
      "       'BLOOD_Not_found'],\n",
      "      dtype='object')\n"
     ]
    }
   ],
   "source": [
    "print(\"Columns in X_train:\", X_train.columns)\n",
    "print(\"Columns in DECISION:\", new_data.columns)"
   ]
  },
  {
   "cell_type": "code",
   "execution_count": null,
   "id": "b999404c-36fe-4569-9d07-4713f60db920",
   "metadata": {},
   "outputs": [],
   "source": []
  }
 ],
 "metadata": {
  "kernelspec": {
   "display_name": "Python 3 (ipykernel)",
   "language": "python",
   "name": "python3"
  },
  "language_info": {
   "codemirror_mode": {
    "name": "ipython",
    "version": 3
   },
   "file_extension": ".py",
   "mimetype": "text/x-python",
   "name": "python",
   "nbconvert_exporter": "python",
   "pygments_lexer": "ipython3",
   "version": "3.11.7"
  }
 },
 "nbformat": 4,
 "nbformat_minor": 5
}
